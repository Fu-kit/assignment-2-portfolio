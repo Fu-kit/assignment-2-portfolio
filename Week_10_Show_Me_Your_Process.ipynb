{
  "nbformat": 4,
  "nbformat_minor": 0,
  "metadata": {
    "colab": {
      "provenance": [],
      "authorship_tag": "ABX9TyOf1KP44WmwTHeyexpBOU66",
      "include_colab_link": true
    },
    "kernelspec": {
      "name": "python3",
      "display_name": "Python 3"
    },
    "language_info": {
      "name": "python"
    }
  },
  "cells": [
    {
      "cell_type": "markdown",
      "metadata": {
        "id": "view-in-github",
        "colab_type": "text"
      },
      "source": [
        "<a href=\"https://colab.research.google.com/github/Fu-kit/assignment-2-portfolio/blob/main/Week_10_Show_Me_Your_Process.ipynb\" target=\"_parent\"><img src=\"https://colab.research.google.com/assets/colab-badge.svg\" alt=\"Open In Colab\"/></a>"
      ]
    },
    {
      "cell_type": "markdown",
      "source": [
        "# 1.1 Problem 1: Tip Calculator\n",
        "\n",
        "1.1.1 The Scenario\n",
        "You work at a Perth restaurant. The manager wants a simple tool where staff can enter: - The bill amount (e.g., $45.80) - The tip percentage (e.g., 15%)\n",
        "\n",
        "And get back: - The tip amount - The total amount to charge"
      ],
      "metadata": {
        "id": "7vnX8pYHXsp3"
      }
    },
    {
      "cell_type": "markdown",
      "source": [
        "STEP 1: Understand the Problem\n",
        "\n",
        "In your own words, what is this program supposed to do? (2-3 sentences)"
      ],
      "metadata": {
        "id": "844OufZ4Yjyt"
      }
    },
    {
      "cell_type": "code",
      "source": [
        "#The manager demands a tool, where\n",
        "#(A)The bill amount and (B)the tip percentage can be input by a user (restaurant staff).\n",
        "#(C)The amout of the tip and (D)the total amout of charge are output."
      ],
      "metadata": {
        "id": "6IAzg4fNYzn2"
      },
      "execution_count": null,
      "outputs": []
    },
    {
      "cell_type": "markdown",
      "source": [
        "STEP 2: Identify Inputs and Outputs\n",
        "\n",
        "INPUTS: - [What does the user provide?] - [What type of data? Numbers? Text?]\n",
        "\n",
        "OUTPUTS: - [What does the program show back?] - [What format?]\n"
      ],
      "metadata": {
        "id": "cUIozzJKY07y"
      }
    },
    {
      "cell_type": "markdown",
      "source": [],
      "metadata": {
        "id": "zq7ORNMHY5Sj"
      }
    },
    {
      "cell_type": "code",
      "source": [
        "#INPUTS: (A)The bill amount, AUD, and (B)the tip percentage, % [Data type; numbers]\n",
        "#OUTPUS: (C)The amout of the tip, AUD, and (D)the total amout of charge, AUD [Data type; numbers]"
      ],
      "metadata": {
        "id": "V7F1gNkCZHXF"
      },
      "execution_count": null,
      "outputs": []
    },
    {
      "cell_type": "markdown",
      "source": [
        "STEP 3: Work It By Hand\n",
        "\n",
        "Show me you can do this with a calculator. Use this example: - Bill amount: $45.80 - Tip percentage: 15%\n",
        "\n",
        "Write the steps: 1. [First calculation I would do] 2. [Second calculation] 3. [Final step] 4. [What I would tell the staff member]"
      ],
      "metadata": {
        "id": "Jq9h3064ZHE7"
      }
    },
    {
      "cell_type": "code",
      "source": [],
      "metadata": {
        "id": "5qlqSLkXZMsC"
      },
      "execution_count": null,
      "outputs": []
    }
  ]
}