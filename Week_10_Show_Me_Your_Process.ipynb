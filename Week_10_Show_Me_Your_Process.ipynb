{
  "nbformat": 4,
  "nbformat_minor": 0,
  "metadata": {
    "colab": {
      "provenance": [],
      "authorship_tag": "ABX9TyOVQJb4mJuQ13fmv0ODt4/W",
      "include_colab_link": true
    },
    "kernelspec": {
      "name": "python3",
      "display_name": "Python 3"
    },
    "language_info": {
      "name": "python"
    }
  },
  "cells": [
    {
      "cell_type": "markdown",
      "metadata": {
        "id": "view-in-github",
        "colab_type": "text"
      },
      "source": [
        "<a href=\"https://colab.research.google.com/github/Fu-kit/assignment-2-portfolio/blob/main/Week_10_Show_Me_Your_Process.ipynb\" target=\"_parent\"><img src=\"https://colab.research.google.com/assets/colab-badge.svg\" alt=\"Open In Colab\"/></a>"
      ]
    },
    {
      "cell_type": "markdown",
      "source": [
        "# 1.1 Problem 1: Tip Calculator\n",
        "\n",
        "1.1.1 The Scenario\n",
        "You work at a Perth restaurant. The manager wants a simple tool where staff can enter: - The bill amount (e.g., $45.80) - The tip percentage (e.g., 15%)\n",
        "\n",
        "And get back: - The tip amount - The total amount to charge"
      ],
      "metadata": {
        "id": "7vnX8pYHXsp3"
      }
    },
    {
      "cell_type": "markdown",
      "source": [
        "STEP 1: Understand the Problem\n",
        "\n",
        "In your own words, what is this program supposed to do? (2-3 sentences)"
      ],
      "metadata": {
        "id": "844OufZ4Yjyt"
      }
    },
    {
      "cell_type": "code",
      "source": [
        "#The manager demands a tool, where\n",
        "#(A)The bill amount and (B)the tip percentage can be input by a user (restaurant staff).\n",
        "#(C)The amout of the tip and (D)the total amout of charge are output."
      ],
      "metadata": {
        "id": "6IAzg4fNYzn2"
      },
      "execution_count": null,
      "outputs": []
    },
    {
      "cell_type": "markdown",
      "source": [
        "STEP 2: Identify Inputs and Outputs\n",
        "\n",
        "INPUTS: - [What does the user provide?] - [What type of data? Numbers? Text?]\n",
        "\n",
        "OUTPUTS: - [What does the program show back?] - [What format?]\n"
      ],
      "metadata": {
        "id": "cUIozzJKY07y"
      }
    },
    {
      "cell_type": "markdown",
      "source": [],
      "metadata": {
        "id": "zq7ORNMHY5Sj"
      }
    },
    {
      "cell_type": "code",
      "source": [
        "#INPUTS: (A)The bill amount, AUD, and (B)the tip percentage, % [Data type; numbers]\n",
        "#OUTPUS: (C)The amout of the tip, AUD, and (D)the total amout of charge, AUD [Data type; numbers]"
      ],
      "metadata": {
        "id": "V7F1gNkCZHXF"
      },
      "execution_count": null,
      "outputs": []
    },
    {
      "cell_type": "markdown",
      "source": [
        "STEP 3: Work It By Hand\n",
        "\n",
        "Show me you can do this with a calculator. Use this example: - Bill amount: $45.80 - Tip percentage: 15%\n",
        "\n",
        "Write the steps: 1. [First calculation I would do] 2. [Second calculation] 3. [Final step] 4. [What I would tell the staff member]"
      ],
      "metadata": {
        "id": "Jq9h3064ZHE7"
      }
    },
    {
      "cell_type": "code",
      "source": [
        "(A)Bill amount: $45.80\n",
        "(B)Tip percentage: 15%\n",
        "\n",
        " 1. [First calculation I would do]\n",
        "#(C)The amount of the tip\n",
        " (A)x(B)/100 = 45.80 x 15%/100 = 6.87\n",
        "\n",
        " 2. [Second calculation]\n",
        "#(D)The total amount of charge\n",
        "(C)+(A) = 52.67\n",
        "\n",
        " 3. [Final step]\n",
        "\n",
        " 4. [What I would tell the staff member]\n",
        "\"The amount of the tip is $6.87.\n",
        "\"The total amount of charge is $52.67\"\n"
      ],
      "metadata": {
        "id": "5qlqSLkXZMsC"
      },
      "execution_count": null,
      "outputs": []
    },
    {
      "cell_type": "markdown",
      "source": [
        "# 1.2 Problem 2: Late Fee Calculator\n",
        "1.2.1 The Scenario\n",
        "You work for a library in Perth. Books are due back in 14 days. For every day late, there’s a $0.50 fine (maximum $10.00).\n",
        "\n",
        "The librarian wants a program where they enter: - How many days the book is overdue\n",
        "\n",
        "And get back: - The fine amount (or “Maximum fine reached” if it’s over $10)"
      ],
      "metadata": {
        "id": "T_dDDFPPhq6d"
      }
    },
    {
      "cell_type": "markdown",
      "source": [
        "STEP 1: Understand the Problem\n",
        "\n",
        "In your own words, what is this program supposed to do? (2-3 sentences)\n",
        "\n",
        "[Your answer here]"
      ],
      "metadata": {
        "id": "e4qaofQahxMi"
      }
    },
    {
      "cell_type": "code",
      "source": [
        "# When a book is overdue, not returned more than 14 days, this tool is needed.\n",
        "# (A) \"How many days the book is overdue\" is input by a library staff.\n",
        "# (B) Fine is added $0.50 a day. Hence, (A) overdue days x $0.50 = total amount of fine.\n",
        "# (C) If fine reaches $10.00 or more, \"Maximum fine is reached\" is output."
      ],
      "metadata": {
        "id": "Azc_I5hRh1nH"
      },
      "execution_count": null,
      "outputs": []
    },
    {
      "cell_type": "markdown",
      "source": [
        "STEP 2: Identify Inputs and Outputs\n",
        "\n",
        "INPUTS: - [What information does the librarian provide?]\n",
        "\n",
        "OUTPUTS: - [What does the program calculate and show?] - [Any special cases?]"
      ],
      "metadata": {
        "id": "FZONmNsEkXY0"
      }
    },
    {
      "cell_type": "code",
      "source": [
        "# INPUTS: How many days the book is overdue [Data type; Numbers]\n",
        "# OUTPUTS: (Generally) Total amount of fine [Data type; Numbers]\n",
        "#(If total amount of fine reaches $10.00 or more) \"Maximum fine is reached\" is printed.[Data type; Text]"
      ],
      "metadata": {
        "id": "AchDglhYkYO4"
      },
      "execution_count": 6,
      "outputs": []
    },
    {
      "cell_type": "markdown",
      "source": [
        "STEP 3: Work It By Hand\n",
        "\n",
        "Show me you understand the logic. Calculate these three cases manually:"
      ],
      "metadata": {
        "id": "LGAGAb_nnw5T"
      }
    },
    {
      "cell_type": "code",
      "source": [
        "#Case A: Book is 5 days late\n",
        " - My calculation: [5 * 0.5 = 2.5]\n",
        " - Fine: [$2.5]\n",
        "\n",
        "#Case B: Book is 25 days late\n",
        " - My calculation: [25 * 0.5 = 12.5]\n",
        " - Fine: [$12.50] (More than $10.00)\n",
        " - Special note: [Why is this different?] -> Since this is more than $10.00\n",
        "\n",
        "#Case C: Book is 0 days late - Fine: [Answer]\n",
        " - My calculation: [0 * 0.5 = 0]\n",
        " - Fine: [$0.0]\n"
      ],
      "metadata": {
        "id": "BMJWGVGFn6tE"
      },
      "execution_count": null,
      "outputs": []
    }
  ]
}