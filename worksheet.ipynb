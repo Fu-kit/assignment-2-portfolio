{
  "cells": [
    {
      "cell_type": "markdown",
      "metadata": {
        "id": "view-in-github",
        "colab_type": "text"
      },
      "source": [
        "<a href=\"https://colab.research.google.com/github/Fu-kit/assignment-2-portfolio/blob/main/worksheet.ipynb\" target=\"_parent\"><img src=\"https://colab.research.google.com/assets/colab-badge.svg\" alt=\"Open In Colab\"/></a>"
      ]
    },
    {
      "cell_type": "markdown",
      "metadata": {
        "id": "GxQD3jzYcr7p"
      },
      "source": [
        "## Learning Goals\n",
        "\n",
        "- Use **dictionaries** to store and retrieve data by **key**.  \n",
        "- Practise **create / update / iterate** operations.  \n",
        "- (Stretch) Model richer data with a **nested dictionary**.  \n",
        "- Record how you **used AI** to assist your work.\n",
        "\n",
        "::: callout-tip\n",
        "### What you’ll build\n",
        "A tiny **Contact Book** in Google Colab: add a few contacts, update one, and print them neatly.  \n",
        "If you finish early, extend it with emails.\n",
        ":::\n",
        "\n",
        "## Setup (2 minutes)\n",
        "\n",
        "1. Open **Google Colab** and create a new notebook.  \n",
        "2. Rename it: `week06_portfolio_contact_book.ipynb`.  \n",
        "3. You will push this file to your **Assessment 2 GitHub repo** at the end."
      ]
    },
    {
      "cell_type": "markdown",
      "metadata": {
        "id": "Yd-HTlXCcr7u"
      },
      "source": [
        "---\n",
        "\n",
        "## Part A — Basics (Must Do)\n",
        "\n",
        "Follow each TODO. Leave your work visible in the cells (don’t delete earlier code).\n",
        "\n",
        "### A1. Create a dictionary with 3 contacts"
      ]
    },
    {
      "cell_type": "code",
      "metadata": {
        "id": "EN0p1WKCcr70"
      },
      "source": [
        "# TODO: Create a dictionary called `contacts` with 3 entries\n",
        "# Each key should be a person's name, each value their phone number (string)\n",
        "\n",
        "contacts = {\n",
        "    \"Alice\": \"0400-123-456\",\n",
        "    \"Bob\": \"0411-000-999\",\n",
        "    \"Charlie\": \"0422-111-222\"\n",
        "}\n"
      ],
      "execution_count": 8,
      "outputs": []
    },
    {
      "cell_type": "markdown",
      "source": [
        "### A2. Add a new entry (your name)"
      ],
      "metadata": {
        "id": "pn4-ln8chsnk"
      }
    },
    {
      "cell_type": "code",
      "source": [
        "# TODO: Add yourself (or another name) to the contacts dictionary\n",
        "contacts[\"Fuki\"] = \"0433-987-654\""
      ],
      "metadata": {
        "id": "rR29_viRhudo"
      },
      "execution_count": 9,
      "outputs": []
    },
    {
      "cell_type": "markdown",
      "metadata": {
        "id": "RcqW5FmKcr73"
      },
      "source": [
        "### A3. Update an existing contact’s number"
      ]
    },
    {
      "cell_type": "code",
      "metadata": {
        "id": "7DFKI9bDcr75"
      },
      "source": [
        "# TODO: Change Bob's number (or any existing contact) to a new value\n",
        "contacts[\"Bob\"] = \"0411-000-000\""
      ],
      "execution_count": 10,
      "outputs": []
    },
    {
      "cell_type": "markdown",
      "metadata": {
        "id": "23QBJxy1cr76"
      },
      "source": [
        "### A4. Print all contacts in a neat format"
      ]
    },
    {
      "cell_type": "code",
      "metadata": {
        "colab": {
          "base_uri": "https://localhost:8080/"
        },
        "id": "xICURFencr78",
        "outputId": "92e7a2b9-6609-4abb-b62b-451b1fe487a2"
      },
      "source": [
        "# TODO: Loop through the dictionary and print each contact\n",
        "# Expected format (example):\n",
        "# Alice: 0400 123 456\n",
        "# Bob: 0411 000 999\n",
        "\n",
        "# I firstly coded;\n",
        "# print(contacts)\n",
        "# But it did not appear\n",
        "\n",
        "for key, value in contacts.items():\n",
        "    print(f\"'{key}': '{value}',\")\n",
        "# This iterates (goes through) each key–value pair in the dictionary.\n"
      ],
      "execution_count": 14,
      "outputs": [
        {
          "output_type": "stream",
          "name": "stdout",
          "text": [
            "Alice: 0400-123-456\n",
            "Bob: 0411-000-000\n",
            "Charlie: 0422-111-222\n",
            "Fuki: 0433-987-654\n"
          ]
        }
      ]
    },
    {
      "cell_type": "raw",
      "metadata": {
        "id": "5iWA13xLcr79"
      },
      "source": [
        "\\::: callout-check\n",
        "**Checkpoint:** You should now have:\n",
        "\n",
        "1. a dictionary with **3+** contacts,\n",
        "2. one **new** entry added,\n",
        "3. one **update** made, and\n",
        "4. a **neat printout**.\n",
        "   \\:::\n",
        "\n",
        "---"
      ]
    },
    {
      "cell_type": "markdown",
      "metadata": {
        "id": "eXaR8yUNcr7-"
      },
      "source": [
        "## Part B — Nested (Stretch)\n",
        "\n",
        "Give each contact both **phone** and **email** using a nested dictionary.\n",
        "\n",
        "### B1. Convert contacts to a nested structure"
      ]
    },
    {
      "cell_type": "code",
      "metadata": {
        "id": "hYGizUx3cr7_"
      },
      "source": [
        "# TODO: Redesign `contacts` so each entry stores both a phone and an email\n",
        "contacts = {\n",
        "    \"Alice\": {\"phone\": \"0400-123-456\", \"email\": \"alice@example.com\"},\n",
        "    \"Bob\": {\"phone\": \"0411-000-999\", \"email\": \"bob@example.com\"},\n",
        "    \"Charlie\": {\"phone\": \"0422-111-222\", \"email\": \"charlie@example.com\"}\n",
        "}\n",
        "#I prepare for typing like \"alice\", \"bob\", \"charlie\""
      ],
      "execution_count": 24,
      "outputs": []
    },
    {
      "cell_type": "markdown",
      "metadata": {
        "id": "pHsF4eqZcr7_"
      },
      "source": [
        "### B2. Print contacts neatly (name, phone, email)"
      ]
    },
    {
      "cell_type": "code",
      "metadata": {
        "colab": {
          "base_uri": "https://localhost:8080/"
        },
        "id": "T_whTOXVcr7_",
        "outputId": "e6c8a504-0f57-4619-ac91-d4cda2aa3a57"
      },
      "source": [
        "# TODO: Loop through contacts and print both phone and email\n",
        "for key, value in contacts.items():\n",
        "    print(f\"'{key}': '{value}',\")"
      ],
      "execution_count": 25,
      "outputs": [
        {
          "output_type": "stream",
          "name": "stdout",
          "text": [
            "'Alice': '{'phone': '0400-123-456', 'email': 'alice@example.com'}',\n",
            "'Bob': '{'phone': '0411-000-999', 'email': 'bob@example.com'}',\n",
            "'Charlie': '{'phone': '0422-111-222', 'email': 'charlie@example.com'}',\n"
          ]
        }
      ]
    },
    {
      "cell_type": "markdown",
      "metadata": {
        "id": "as1gZyBhcr8A"
      },
      "source": [
        "\\::: callout-note\n",
        "**Optional:** Add a simple **lookup** by name using `input()` to fetch phone/email.\n",
        "\\:::"
      ]
    },
    {
      "cell_type": "code",
      "metadata": {
        "colab": {
          "base_uri": "https://localhost:8080/"
        },
        "id": "cEO1C87Ocr8C",
        "outputId": "7e705768-37a2-4edd-885b-427b8126b180"
      },
      "source": [
        "# TODO (optional): Prompt for a name and print their details if found\n",
        "\n",
        "name = input(\"Enter a name: \").lower()\n",
        "if name in contacts:\n",
        "  print(f\"{name}'s number is {contacts[name]['phone']} and email is {contacts[name]['email']}.\")\n",
        "else:\n",
        "  print(f\"{name} is not in the contact list.\")"
      ],
      "execution_count": 26,
      "outputs": [
        {
          "output_type": "stream",
          "name": "stdout",
          "text": [
            "Enter a name: alice\n",
            "alice is not in the contact list.\n"
          ]
        }
      ]
    },
    {
      "cell_type": "markdown",
      "metadata": {
        "id": "BRjJoavmcr8D"
      },
      "source": [
        "---\n",
        "\n",
        "## Part C — Critique AI Output (Optional, 3–5 mins)\n",
        "\n",
        "Read (don’t run) the following **over-complicated** structure:"
      ]
    },
    {
      "cell_type": "code",
      "metadata": {
        "colab": {
          "base_uri": "https://localhost:8080/",
          "height": 109
        },
        "id": "n7eiEA_ucr8E",
        "outputId": "61a05144-580e-4537-9aa4-ce73998845d6"
      },
      "source": [
        "book = {\n",
        "    \"people\": [\n",
        "        {\"n\": \"Alice\", \"v\": [\"phone\", \"0400 123 456\", \"email\", \"alice@example.com\"]},\n",
        "        {\"n\": \"Bob\",   \"v\": [\"phone\", \"0411 000 999\", \"email\", \"bob@example.com\"]},\n",
        "    ]\n",
        "}\n",
        "\n",
        "# Identify two reasons this structure is hard to read/use.\n",
        "# (1) There is double structure; book includes people, who includes each contact.\n",
        "# (2) [] is used.\n",
        "\n",
        "people = {\n",
        "    \"Alice\":  {\"phone\": \"0400 123 456\", \"email\", \"alice@example.com\"},\n",
        "    \"Bob\":    {\"phone\", \"0411 000 999\", \"email\", \"bob@example.com\"}\n",
        "    }\n",
        ""
      ],
      "execution_count": 27,
      "outputs": [
        {
          "output_type": "error",
          "ename": "SyntaxError",
          "evalue": "unmatched '}' (ipython-input-2226417041.py, line 14)",
          "traceback": [
            "\u001b[0;36m  File \u001b[0;32m\"/tmp/ipython-input-2226417041.py\"\u001b[0;36m, line \u001b[0;32m14\u001b[0m\n\u001b[0;31m    \"Bob\":    [\"phone\", \"0411 000 999\", \"email\", \"bob@example.com\"]},\u001b[0m\n\u001b[0m                                                                   ^\u001b[0m\n\u001b[0;31mSyntaxError\u001b[0m\u001b[0;31m:\u001b[0m unmatched '}'\n"
          ]
        }
      ]
    },
    {
      "cell_type": "markdown",
      "metadata": {
        "id": "MurvNEXccr8F"
      },
      "source": [
        "**Your task (short text answer below or as comments):**\n",
        "\n",
        "1. Identify **two reasons** this structure is hard to read/use.\n",
        "2. Sketch a **simpler redesign** (describe briefly or outline keys you would use).\n",
        "\n",
        "\\::: callout-tip\n",
        "If you’d like AI support without giving you the answer, try a **process prompt** like:\n",
        "\n",
        "> “Help me evaluate whether the above structure is easy to use for lookups in Python. Ask me 3 guiding questions first, then suggest *principles* (not code) for a clearer dictionary-of-dictionaries design.”\n",
        "> \\:::"
      ]
    },
    {
      "cell_type": "code",
      "metadata": {
        "id": "aXrSMJTOcr8F"
      },
      "source": [
        "# ← Optional: write brief notes here as a multiline string\n",
        "critique_notes = \"\"\"\n",
        "1) ...\n",
        "2) ...\n",
        "Redesign idea: ...\n",
        "\"\"\"\n",
        "critique_notes"
      ],
      "execution_count": null,
      "outputs": []
    },
    {
      "cell_type": "raw",
      "metadata": {
        "id": "Emq_FzFqcr8G"
      },
      "source": [
        "---"
      ]
    },
    {
      "cell_type": "markdown",
      "metadata": {
        "id": "vZUQQX1Hcr8G"
      },
      "source": [
        "## Submission (End of Class)\n",
        "\n",
        "1. **Show** your notebook to your tutor for a quick check.\n",
        "2. **Save** the notebook into your **Assessment 2 GitHub repo**.\n",
        "3. **Commit & push** (suggested message: `Week 6 – Mini Contact Book`).\n",
        "\n",
        "> Your full portfolio will be submitted as a **zip of the repo in Week 13**."
      ]
    },
    {
      "cell_type": "raw",
      "metadata": {
        "id": "0Euay3MRcr8H"
      },
      "source": [
        "---\n",
        "\n",
        "## Marking (This Week)\n",
        "\n",
        "* **✅ Complete** — Part A done (dictionary created, updated, printed). Part B optional.\n",
        "* **⚠️ Attempted** — Some progress, but not all required steps.\n",
        "* **❌ Not Submitted** — Nothing shown in class and/or nothing pushed to GitHub.\n",
        "\n",
        "---"
      ]
    },
    {
      "cell_type": "markdown",
      "metadata": {
        "id": "CJHv7t4ccr8H"
      },
      "source": [
        "## AI Usage Note (2–3 lines)\n",
        "\n",
        "Add to your repo `README.md` **or** a final markdown cell:\n",
        "\n",
        "* What prompt(s) did you try?\n",
        "* What did you change/fix from AI’s suggestion?\n",
        "* One concept you want to practise (e.g., `.items()`, `.get()`)."
      ]
    },
    {
      "cell_type": "raw",
      "metadata": {
        "id": "OaoUhBUMcr8I"
      },
      "source": [
        "---\n",
        "\n",
        "## Troubleshooting\n",
        "\n",
        "* **KeyError** → The name isn’t in the dictionary (use `in` to check).\n",
        "* **Typos** → Keys are case-sensitive (`\"Bob\"` ≠ `\"bob\"`).\n",
        "* **Overwriting** → Reassigning `contacts = {...}` replaces the old dict — that’s expected in B1.\n",
        "\n",
        "---"
      ]
    },
    {
      "cell_type": "markdown",
      "metadata": {
        "id": "z4S8s51Mcr8I"
      },
      "source": [
        "## Extension Ideas (For fast finishers)\n",
        "\n",
        "* Add a **delete contact** option.\n",
        "* Prevent duplicates (check existence before adding).\n",
        "* Store multiple phone numbers per person (list inside the nested dict).\n"
      ]
    }
  ],
  "metadata": {
    "kernelspec": {
      "display_name": "Python 3",
      "language": "python",
      "name": "python3"
    },
    "colab": {
      "provenance": [],
      "include_colab_link": true
    }
  },
  "nbformat": 4,
  "nbformat_minor": 0
}